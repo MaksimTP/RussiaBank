{
 "cells": [
  {
   "cell_type": "code",
   "execution_count": 2,
   "metadata": {},
   "outputs": [],
   "source": [
    "from transformers import AutoModelForQuestionAnswering, AutoTokenizer, pipeline\n",
    "\n",
    "model_name = \"deepset/roberta-base-squad2\"\n",
    "\n",
    "nlp = pipeline(\"question-answering\", model=model_name, tokenizer=model_name)\n",
    "\n",
    "QA_input = {\n",
    "    \"question\": \"What is commercial bank?\",\n",
    "    \"context\": \"Commercial bank is owned by the group of individuals or by a member of Federal Reserve System. The commercial bank offer services to individuals, they are primarily concerned with receiving deposits and lending to business. Such bank earns money by imposing interest on the loan borrowed by the borrower. The money that is deposited by the customer will be used by the bank to give business loan, auto loan, mortgages and home repair loans.\"\n",
    "}\n",
    "\n",
    "res = nlp(QA_input)"
   ]
  },
  {
   "cell_type": "code",
   "execution_count": 3,
   "metadata": {},
   "outputs": [
    {
     "data": {
      "text/plain": [
       "{'score': 0.1375482827425003,\n",
       " 'start': 19,\n",
       " 'end': 93,\n",
       " 'answer': 'owned by the group of individuals or by a member of Federal Reserve System'}"
      ]
     },
     "execution_count": 3,
     "metadata": {},
     "output_type": "execute_result"
    }
   ],
   "source": [
    "res"
   ]
  },
  {
   "cell_type": "code",
   "execution_count": 28,
   "metadata": {},
   "outputs": [
    {
     "data": {
      "text/plain": [
       "{'score': 0.4865801930427551,\n",
       " 'start': 72,\n",
       " 'end': 113,\n",
       " 'answer': 'THE feeling that makes your heart beat up'}"
      ]
     },
     "execution_count": 28,
     "metadata": {},
     "output_type": "execute_result"
    }
   ],
   "source": [
    "QA_input = {\n",
    "    \"question\": \"What is love?\",\n",
    "    \"context\": \"\"\n",
    "}\n",
    "\n",
    "res = nlp(QA_input)\n",
    "res"
   ]
  }
 ],
 "metadata": {
  "kernelspec": {
   "display_name": "Python 3",
   "language": "python",
   "name": "python3"
  },
  "language_info": {
   "codemirror_mode": {
    "name": "ipython",
    "version": 3
   },
   "file_extension": ".py",
   "mimetype": "text/x-python",
   "name": "python",
   "nbconvert_exporter": "python",
   "pygments_lexer": "ipython3",
   "version": "3.10.12"
  }
 },
 "nbformat": 4,
 "nbformat_minor": 2
}
