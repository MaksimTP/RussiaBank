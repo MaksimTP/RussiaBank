{
  "cells": [
    {
      "cell_type": "markdown",
      "source": [
        "# FRED-T5"
      ],
      "metadata": {
        "id": "x9A7Sdm4qDGx"
      }
    },
    {
      "cell_type": "code",
      "execution_count": 1,
      "metadata": {
        "colab": {
          "base_uri": "https://localhost:8080/"
        },
        "id": "bdD7GMqfliVt",
        "outputId": "faf70e1a-f550-472b-c5f1-4ec86dd6c540"
      },
      "outputs": [
        {
          "output_type": "stream",
          "name": "stderr",
          "text": [
            "/usr/local/lib/python3.10/dist-packages/huggingface_hub/utils/_token.py:88: UserWarning: \n",
            "The secret `HF_TOKEN` does not exist in your Colab secrets.\n",
            "To authenticate with the Hugging Face Hub, create a token in your settings tab (https://huggingface.co/settings/tokens), set it as secret in your Google Colab and restart your session.\n",
            "You will be able to reuse this secret in all of your notebooks.\n",
            "Please note that authentication is recommended but still optional to access public models or datasets.\n",
            "  warnings.warn(\n",
            "Special tokens have been added in the vocabulary, make sure the associated word embeddings are fine-tuned or trained.\n"
          ]
        }
      ],
      "source": [
        "import torch\n",
        "from transformers import GPT2Tokenizer, T5ForConditionalGeneration\n",
        "tokenizer = GPT2Tokenizer.from_pretrained('ai-forever/FRED-T5-1.7B',eos_token='</s>')"
      ]
    },
    {
      "cell_type": "code",
      "execution_count": 2,
      "metadata": {
        "colab": {
          "base_uri": "https://localhost:8080/"
        },
        "id": "Sv28YsTXliVx",
        "outputId": "f1f94ee8-6f29-409e-de5b-779459e5ebde"
      },
      "outputs": [
        {
          "output_type": "stream",
          "name": "stderr",
          "text": [
            "/usr/local/lib/python3.10/dist-packages/torch/_utils.py:831: UserWarning: TypedStorage is deprecated. It will be removed in the future and UntypedStorage will be the only storage class. This should only matter to you if you are using storages directly.  To access UntypedStorage directly, use tensor.untyped_storage() instead of tensor.storage()\n",
            "  return self.fget.__get__(instance, owner)()\n"
          ]
        }
      ],
      "source": [
        "model = T5ForConditionalGeneration.from_pretrained('ai-forever/FRED-T5-1.7B')"
      ]
    },
    {
      "cell_type": "code",
      "execution_count": null,
      "metadata": {
        "id": "ZK6qxl8zliVx"
      },
      "outputs": [],
      "source": [
        "device='cuda'\n",
        "model.to(device)"
      ]
    },
    {
      "cell_type": "code",
      "execution_count": 4,
      "metadata": {
        "colab": {
          "base_uri": "https://localhost:8080/"
        },
        "id": "65buOlR4liVy",
        "outputId": "c937e945-f605-4d38-ed1f-0b711a80158b"
      },
      "outputs": [
        {
          "output_type": "stream",
          "name": "stderr",
          "text": [
            "/usr/local/lib/python3.10/dist-packages/transformers/generation/configuration_utils.py:453: UserWarning: `num_beams` is set to 1. However, `early_stopping` is set to `True` -- this flag is only used in beam-based generation modes. You should set `num_beams>1` or unset `early_stopping`.\n",
            "  warnings.warn(\n",
            "/usr/local/lib/python3.10/dist-packages/transformers/generation/utils.py:1178: UserWarning: Using the model-agnostic default `max_length` (=20) to control the generation length. We recommend setting `max_new_tokens` to control the maximum length of the generation.\n",
            "  warnings.warn(\n"
          ]
        },
        {
          "output_type": "stream",
          "name": "stdout",
          "text": [
            " с того, что он был в армии, служил в артиллерии.</s>\n"
          ]
        }
      ],
      "source": [
        "lm_text='<LM>Принялся Кутузов рассказывать свою историю как он сюда попал. Началось'\n",
        "input_ids=torch.tensor([tokenizer.encode(lm_text)]).to(device)\n",
        "# input_ids=torch.tensor([tokenizer.encode(lm_text)])\n",
        "outputs=model.generate(input_ids,eos_token_id=tokenizer.eos_token_id,early_stopping=True)\n",
        "print(tokenizer.decode(outputs[0][1:]))"
      ]
    },
    {
      "cell_type": "code",
      "source": [
        "text = \"\"\"\n",
        "Ответь на вопрос с заданным контекстом, пожалуйста.\n",
        "\n",
        "Вопрос: \"Как быстро растут подмышки у человека\"\n",
        "\n",
        "Контекст: \"Люди, как правило, имеют обильный рост волос. В том числе, подмышки то же растут очень быстро, что странно. Зафиксированная средняя скорость роста 5мм/год\"\n",
        "\n",
        "\"\"\"\n",
        "input_ids=torch.tensor([tokenizer.encode(text)]).to(device)\n",
        "# input_ids=torch.tensor([tokenizer.encode(lm_text)])\n",
        "outputs=model.generate(input_ids,eos_token_id=tokenizer.eos_token_id)\n",
        "print(tokenizer.decode(outputs[0][1:]))"
      ],
      "metadata": {
        "colab": {
          "base_uri": "https://localhost:8080/"
        },
        "id": "vTmsRbjX0QnZ",
        "outputId": "0540636c-b815-4757-9ad0-6c09138ada29"
      },
      "execution_count": 11,
      "outputs": [
        {
          "output_type": "stream",
          "name": "stdout",
          "text": [
            "\n",
            "Ответ: \"Подмышки растут очень быстро, что странно. Зафиксированная средняя скорость\n"
          ]
        }
      ]
    },
    {
      "cell_type": "code",
      "source": [
        "outputs[0][1:]"
      ],
      "metadata": {
        "colab": {
          "base_uri": "https://localhost:8080/"
        },
        "id": "inSp2CZs1CCb",
        "outputId": "770ae5b2-1321-4fb4-a8c8-26d66639b78d"
      },
      "execution_count": 12,
      "outputs": [
        {
          "output_type": "execute_result",
          "data": {
            "text/plain": [
              "tensor([  203, 29153,    30,   458,  7148,   918,  2300, 20322,   939,  2156,\n",
              "           16,   374,  7322,    18,   999, 10370, 11049, 22434,  7872],\n",
              "       device='cuda:0')"
            ]
          },
          "metadata": {},
          "execution_count": 12
        }
      ]
    },
    {
      "cell_type": "code",
      "source": [
        "text = \"\"\"Отвечайте на вопросы. Кто был лидером СССР? Ответьте подробно исходя из этого контекста:\n",
        "\"СССР был образован на территории, которую к 1917 году занимала Российская империя без Финляндии, части Польского царства и некоторых других территорий.Перейти к разделу «#География СССР» Советская власть на этой территории установилась в результате Октябрьской революции 1917 года и последовавшей за ней Гражданской войны. 30 декабря 1922 года РСФСР, Украинская ССР, Белорусская ССР и Закавказская СФСР объединились в одно государство — Союз ССР с едиными органами политической власти со столицей в Москве, с сохранением де-юре за каждой союзной республикой права свободного выхода из Союза[5].Перейти к разделу «#История СССР»\n",
        "22 июня 1941 года Германия при поддержке союзников напала на СССР. Началась Великая Отечественная война, после победы в которой СССР стал, наряду с США, сверхдержавой[6][7][8][9]. Советский Союз доминировал в мировой системе социализма, а также был соучредителем ООН, постоянным членом Совета Безопасности ООН с правом ветоПерейти к разделу «СССР во Второй мировой войне (1941—1945)».\n",
        "Согласно положениям Конституции 1977 года СССР провозглашался единым союзным многонациональным[10] социалистическим[11] государствомПерейти к разделу «#Политическая система и идеология». Союзные республики считались суверенными государствами[12]. Порядок выхода республик из Союза с 1990 года регулировал специальный закон. Союзная республика имела право вступать в отношения с иностранными государствами, заключать с ними договоры и обмениваться дипломатическими и консульскими представителями, участвовать в деятельности международных организаций[13]. Среди 50 стран-основателей ООН, наряду с СССР, были и 2 его союзные республики: БССР и УССРПерейти к разделу «#Административно-территориальное деление СССР».\n",
        "Из-за низкой эффективности экономической системы, сильной зависимости от цен на энергоресурсы, существенных расходов на гонку вооружений, массового дефицита товаров, межнациональных противоречий и других проблем во второй половине 1980-х годов в СССР произошёл экономический и политический кризис. Обострилось внутреннее политическое противостояние. Попытки реформирования советской системы (демократизация, переход к рыночной экономике и многопартийности) не помогли решить накопившиеся противоречия. В 1988—1991 годах произошёл ряд законодательных конфликтов между союзным центром и союзными республикамиПерейти к разделу «Перестройка (1985—1991)». Последствия всех этих событий привели к распаду СССР (см. Причины распада).\n",
        "17 марта 1991 года состоялся Всесоюзный референдум о сохранении СССР, на котором 77,85 % граждан советских республик, принявших участие в референдуме, высказались за сохранение Союза как обновлённой федерации равноправных социалистических суверенных республик[~ 10]. Попытка государственного переворота ГКЧП в августе 1991 года вызвала массовые народные демонстрации по всему СССР в защиту демократического курса Перестройки и законно избранной в 1989 году государственной власти — Съезда народных депутатов СССР. Апогеем противостояния путчистам считаются события у Белого дома в Москве. В результате попытка захвата власти ГКЧП провалилась. 8 декабря 1991 года тремя государствами — учредителями Союза были подписаны Соглашения о прекращении существования СССР и создании СНГ[14]. 26 декабря 1991 года Совет Республик Верховного Совета СССР принял декларацию о прекращении существования СССР[15].\n",
        "Российская Федерация[~ 11] была признана де-факто[16] государством-продолжателем СССР в международно-правовых отношениях[~ 12] и заняла его место в Совете Безопасности ООН[~ 13].Перейти к разделу «#Распад Советского Союза (1990—1991)» В то же время, согласно действующему законодательству Украины, последняя является преемницей прав и обязательств УССР и международных договоров СССР[17]. Между государствами существует незакрытый вопрос о государственном долге СССР[18]. Территория, которую ранее занимал СССР, именуется «постсоветским пространством». \" \"\"\"\n",
        "input_ids=torch.tensor([tokenizer.encode(text)]).to(device)\n",
        "# input_ids=torch.tensor([tokenizer.encode(lm_text)])\n",
        "outputs=model.generate(input_ids,eos_token_id=tokenizer.eos_token_id)\n",
        "print(tokenizer.decode(outputs[0][1:]))"
      ],
      "metadata": {
        "colab": {
          "base_uri": "https://localhost:8080/"
        },
        "id": "-aGUfwUa1Klb",
        "outputId": "cca6a3c1-831b-4501-8ce6-d59da763f5b9"
      },
      "execution_count": 18,
      "outputs": [
        {
          "output_type": "stream",
          "name": "stdout",
          "text": [
            "\n",
            "\"В СССР существовала единая система управления, которая была основана на принципах социалистического централизма\n"
          ]
        }
      ]
    },
    {
      "cell_type": "markdown",
      "source": [
        "# E5-LARGE"
      ],
      "metadata": {
        "id": "dILKbiZCoUa6"
      }
    },
    {
      "cell_type": "code",
      "source": [
        "import torch.nn.functional as F\n",
        "\n",
        "from torch import Tensor\n",
        "from transformers import AutoTokenizer, AutoModel\n",
        "\n",
        "\n",
        "def average_pool(last_hidden_states: Tensor,\n",
        "                 attention_mask: Tensor) -> Tensor:\n",
        "    last_hidden = last_hidden_states.masked_fill(~attention_mask[..., None].bool(), 0.0)\n",
        "    return last_hidden.sum(dim=1) / attention_mask.sum(dim=1)[..., None]\n",
        "\n",
        "\n",
        "# Each input text should start with \"query: \" or \"passage: \", even for non-English texts.\n",
        "# For tasks other than retrieval, you can simply use the \"query: \" prefix.\n",
        "input_texts = ['query: how much protein should a female eat',\n",
        "               'query: Сколько сейчас стоит вейп с яблоком?',\n",
        "               \"passage: Check out the chart below to see how much protein you should be eating each day.\",\n",
        "               \"passage: Вчера был на рынке вейпов, там они стоят около 1500 рублей\"]\n",
        "\n"
      ],
      "metadata": {
        "id": "nvLtitZRohoS"
      },
      "execution_count": 21,
      "outputs": []
    },
    {
      "cell_type": "code",
      "source": [
        "tokenizer = AutoTokenizer.from_pretrained('intfloat/multilingual-e5-large')\n",
        "model = AutoModel.from_pretrained('intfloat/multilingual-e5-large')\n",
        "\n",
        "# Tokenize the input texts\n",
        "batch_dict = tokenizer(input_texts, max_length=512, padding=True, truncation=True, return_tensors='pt')\n",
        "\n",
        "batch_dict"
      ],
      "metadata": {
        "colab": {
          "base_uri": "https://localhost:8080/"
        },
        "id": "g-FeiX8Dqpfo",
        "outputId": "4a484ab5-8994-4f49-ff5e-ba24023fe669"
      },
      "execution_count": 22,
      "outputs": [
        {
          "output_type": "execute_result",
          "data": {
            "text/plain": [
              "{'input_ids': tensor([[     0,     41,   1294,     12,   3642,   5045,  21308,   5608,     10,\n",
              "         117776,  73203,      2,      1,      1,      1,      1,      1,      1,\n",
              "              1,      1,      1],\n",
              "        [     0,     41,   1294,     12, 191405,  12504,  18510,     49,   2519,\n",
              "           1078,    135,    784,  76591,    419,     32,      2,      1,      1,\n",
              "              1,      1,      1],\n",
              "        [     0,  46692,     12,  38679,   1810,     70, 116287,  35064,     47,\n",
              "           1957,   3642,   5045,  21308,    398,   5608,    186, 118992,  12638,\n",
              "           5155,      5,      2],\n",
              "        [     0,  46692,     12, 162924,   4387,     29,  68096,     49,   2519,\n",
              "          27383,      4,   3926,   2792, 123618,   9953,  17551,  28403,      2,\n",
              "              1,      1,      1]]), 'attention_mask': tensor([[1, 1, 1, 1, 1, 1, 1, 1, 1, 1, 1, 1, 0, 0, 0, 0, 0, 0, 0, 0, 0],\n",
              "        [1, 1, 1, 1, 1, 1, 1, 1, 1, 1, 1, 1, 1, 1, 1, 1, 0, 0, 0, 0, 0],\n",
              "        [1, 1, 1, 1, 1, 1, 1, 1, 1, 1, 1, 1, 1, 1, 1, 1, 1, 1, 1, 1, 1],\n",
              "        [1, 1, 1, 1, 1, 1, 1, 1, 1, 1, 1, 1, 1, 1, 1, 1, 1, 1, 0, 0, 0]])}"
            ]
          },
          "metadata": {},
          "execution_count": 22
        }
      ]
    },
    {
      "cell_type": "code",
      "source": [
        "outputs = model(**batch_dict)\n",
        "outputs"
      ],
      "metadata": {
        "id": "31RIJghx24Aw"
      },
      "execution_count": null,
      "outputs": []
    },
    {
      "cell_type": "code",
      "source": [
        "\n",
        "embeddings = average_pool(outputs.last_hidden_state, batch_dict['attention_mask'])\n",
        "\n",
        "# normalize embeddings\n",
        "embeddings = F.normalize(embeddings, p=2, dim=1)\n",
        "embeddings"
      ],
      "metadata": {
        "colab": {
          "base_uri": "https://localhost:8080/"
        },
        "id": "gCzu3XSu2MNm",
        "outputId": "ca8a62f9-9da0-433a-85fa-bba856a503bc"
      },
      "execution_count": 25,
      "outputs": [
        {
          "output_type": "execute_result",
          "data": {
            "text/plain": [
              "tensor([[ 0.0288, -0.0159, -0.0375,  ..., -0.0203, -0.0491,  0.0263],\n",
              "        [ 0.0071, -0.0181, -0.0085,  ...,  0.0050, -0.0659, -0.0058],\n",
              "        [ 0.0144, -0.0148, -0.0208,  ..., -0.0258, -0.0240,  0.0014],\n",
              "        [ 0.0062, -0.0285, -0.0352,  ...,  0.0144, -0.0495,  0.0215]],\n",
              "       grad_fn=<DivBackward0>)"
            ]
          },
          "metadata": {},
          "execution_count": 25
        }
      ]
    },
    {
      "cell_type": "code",
      "source": [
        "!pip install sentence_transformers"
      ],
      "metadata": {
        "id": "KQ48kuHj30Np"
      },
      "execution_count": null,
      "outputs": []
    },
    {
      "cell_type": "code",
      "source": [
        "scores = (embeddings[:2] @ embeddings[2:].T) * 100\n",
        "scores"
      ],
      "metadata": {
        "colab": {
          "base_uri": "https://localhost:8080/"
        },
        "id": "koGL4qU73FZP",
        "outputId": "b4f77fed-4148-4c88-b5b1-406c3b821893"
      },
      "execution_count": 31,
      "outputs": [
        {
          "output_type": "execute_result",
          "data": {
            "text/plain": [
              "tensor([[86.7220, 73.2169],\n",
              "        [67.5268, 83.2351]], grad_fn=<MulBackward0>)"
            ]
          },
          "metadata": {},
          "execution_count": 31
        }
      ]
    },
    {
      "cell_type": "code",
      "source": [
        "from sentence_transformers import SentenceTransformer\n",
        "\n",
        "def get_detailed_instruct(task_description: str, query: str) -> str:\n",
        "    return f'Instruct: {task_description}\\nQuery: {query}'\n",
        "\n",
        "# Each query must come with a one-sentence instruction that describes the task\n",
        "task = 'Given a web search query, retrieve relevant passages that answer the query'\n",
        "queries = [\n",
        "    get_detailed_instruct(task, 'how much protein should a female eat'),\n",
        "    get_detailed_instruct(task, '南瓜的家常做法')\n",
        "]\n",
        "# No need to add instruction for retrieval documents\n",
        "documents = [\n",
        "    \"As a general guideline, the CDC's average requirement of protein for women ages 19 to 70 is 46 grams per day. But, as you can see from this chart, you'll need to increase that if you're expecting or training for a marathon. Check out the chart below to see how much protein you should be eating each day.\",\n",
        "    \"1.清炒南瓜丝 原料:嫩南瓜半个 调料:葱、盐、白糖、鸡精 做法: 1、南瓜用刀薄薄的削去表面一层皮,用勺子刮去瓤 2、擦成细丝(没有擦菜板就用刀慢慢切成细丝) 3、锅烧热放油,入葱花煸出香味 4、入南瓜丝快速翻炒一分钟左右,放盐、一点白糖和鸡精调味出锅 2.香葱炒南瓜 原料:南瓜1只 调料:香葱、蒜末、橄榄油、盐 做法: 1、将南瓜去皮,切成片 2、油锅8成热后,将蒜末放入爆香 3、爆香后,将南瓜片放入,翻炒 4、在翻炒的同时,可以不时地往锅里加水,但不要太多 5、放入盐,炒匀 6、南瓜差不多软和绵了之后,就可以关火 7、撒入香葱,即可出锅\"\n",
        "]\n",
        "input_texts = queries + documents\n",
        "\n",
        "model = SentenceTransformer('intfloat/multilingual-e5-large-instruct')\n",
        "\n",
        "embeddings = model.encode(input_texts, convert_to_tensor=True, normalize_embeddings=True)\n",
        "scores = (embeddings[:2] @ embeddings[2:].T) * 100\n",
        "print(scores.tolist())\n",
        "# [[91.92853546142578, 67.5802993774414], [70.38143157958984, 92.13307189941406]]\n"
      ],
      "metadata": {
        "id": "ku4TgYCA363Y"
      },
      "execution_count": null,
      "outputs": []
    },
    {
      "cell_type": "code",
      "source": [
        "input_texts"
      ],
      "metadata": {
        "colab": {
          "base_uri": "https://localhost:8080/"
        },
        "id": "eOuTWbg2LHsU",
        "outputId": "c7b22546-1a1c-4548-eb07-9c2355c3f84d"
      },
      "execution_count": 93,
      "outputs": [
        {
          "output_type": "execute_result",
          "data": {
            "text/plain": [
              "['Instruct: Given a web search query, retrieve relevant passages that answer the query\\nQuery: how much protein should a female eat',\n",
              " 'Instruct: Given a web search query, retrieve relevant passages that answer the query\\nQuery: 南瓜的家常做法',\n",
              " \"As a general guideline, the CDC's average requirement of protein for women ages 19 to 70 is 46 grams per day. But, as you can see from this chart, you'll need to increase that if you're expecting or training for a marathon. Check out the chart below to see how much protein you should be eating each day.\",\n",
              " '1.清炒南瓜丝 原料:嫩南瓜半个 调料:葱、盐、白糖、鸡精 做法: 1、南瓜用刀薄薄的削去表面一层皮,用勺子刮去瓤 2、擦成细丝(没有擦菜板就用刀慢慢切成细丝) 3、锅烧热放油,入葱花煸出香味 4、入南瓜丝快速翻炒一分钟左右,放盐、一点白糖和鸡精调味出锅 2.香葱炒南瓜 原料:南瓜1只 调料:香葱、蒜末、橄榄油、盐 做法: 1、将南瓜去皮,切成片 2、油锅8成热后,将蒜末放入爆香 3、爆香后,将南瓜片放入,翻炒 4、在翻炒的同时,可以不时地往锅里加水,但不要太多 5、放入盐,炒匀 6、南瓜差不多软和绵了之后,就可以关火 7、撒入香葱,即可出锅']"
            ]
          },
          "metadata": {},
          "execution_count": 93
        }
      ]
    },
    {
      "cell_type": "code",
      "source": [
        "embeddings"
      ],
      "metadata": {
        "colab": {
          "base_uri": "https://localhost:8080/"
        },
        "id": "XId_PeszLBq9",
        "outputId": "df38942b-cb90-4506-c593-19b8fe95afcc"
      },
      "execution_count": 94,
      "outputs": [
        {
          "output_type": "execute_result",
          "data": {
            "text/plain": [
              "tensor([[ 0.0202,  0.0112, -0.0451,  ..., -0.0266, -0.0423,  0.0389],\n",
              "        [ 0.0486,  0.0594,  0.0040,  ..., -0.0214, -0.0263,  0.0198],\n",
              "        [ 0.0327,  0.0041, -0.0503,  ..., -0.0388, -0.0127,  0.0501],\n",
              "        [ 0.0477,  0.0566,  0.0092,  ..., -0.0110, -0.0086,  0.0239]],\n",
              "       device='cuda:0')"
            ]
          },
          "metadata": {},
          "execution_count": 94
        }
      ]
    },
    {
      "cell_type": "code",
      "source": [
        "scores"
      ],
      "metadata": {
        "colab": {
          "base_uri": "https://localhost:8080/"
        },
        "id": "mbTnnJ0p3__h",
        "outputId": "0604b4b3-a279-44ec-c1c4-674e3314087d"
      },
      "execution_count": 41,
      "outputs": [
        {
          "output_type": "execute_result",
          "data": {
            "text/plain": [
              "tensor([[86.7220, 73.2169],\n",
              "        [67.5268, 83.2351]], grad_fn=<MulBackward0>)"
            ]
          },
          "metadata": {},
          "execution_count": 41
        }
      ]
    },
    {
      "cell_type": "code",
      "source": [
        "!curl -O https://www.cbr.ru/Crosscut/LawActs/File/7690"
      ],
      "metadata": {
        "colab": {
          "base_uri": "https://localhost:8080/"
        },
        "id": "JmUBqalX6Khk",
        "outputId": "0bbb8238-fef6-4e7d-ad77-e05f00a7648b"
      },
      "execution_count": 63,
      "outputs": [
        {
          "output_type": "stream",
          "name": "stdout",
          "text": [
            "  % Total    % Received % Xferd  Average Speed   Time    Time     Time  Current\n",
            "                                 Dload  Upload   Total   Spent    Left  Speed\n",
            "100  254k  100  254k    0     0   227k      0  0:00:01  0:00:01 --:--:--  227k\n"
          ]
        }
      ]
    },
    {
      "cell_type": "code",
      "source": [
        "!pip install pdfreader"
      ],
      "metadata": {
        "colab": {
          "base_uri": "https://localhost:8080/"
        },
        "id": "dnT4dSp46rj3",
        "outputId": "9db2e2ce-b551-4540-da66-9de9801d3170"
      },
      "execution_count": 47,
      "outputs": [
        {
          "output_type": "stream",
          "name": "stdout",
          "text": [
            "Collecting pdfreader\n",
            "  Downloading pdfreader-0.1.12.tar.gz (2.9 MB)\n",
            "\u001b[2K     \u001b[90m━━━━━━━━━━━━━━━━━━━━━━━━━━━━━━━━━━━━━━━━\u001b[0m \u001b[32m2.9/2.9 MB\u001b[0m \u001b[31m10.8 MB/s\u001b[0m eta \u001b[36m0:00:00\u001b[0m\n",
            "\u001b[?25h  Preparing metadata (setup.py) ... \u001b[?25l\u001b[?25hdone\n",
            "Collecting bitarray>=1.1.0 (from pdfreader)\n",
            "  Downloading bitarray-2.9.2-cp310-cp310-manylinux_2_17_x86_64.manylinux2014_x86_64.whl (288 kB)\n",
            "\u001b[2K     \u001b[90m━━━━━━━━━━━━━━━━━━━━━━━━━━━━━━━━━━━━━━━━\u001b[0m \u001b[32m288.3/288.3 kB\u001b[0m \u001b[31m24.7 MB/s\u001b[0m eta \u001b[36m0:00:00\u001b[0m\n",
            "\u001b[?25hRequirement already satisfied: pillow>=7.1.0 in /usr/local/lib/python3.10/dist-packages (from pdfreader) (9.4.0)\n",
            "Collecting pycryptodome>=3.9.9 (from pdfreader)\n",
            "  Downloading pycryptodome-3.20.0-cp35-abi3-manylinux_2_17_x86_64.manylinux2014_x86_64.whl (2.1 MB)\n",
            "\u001b[2K     \u001b[90m━━━━━━━━━━━━━━━━━━━━━━━━━━━━━━━━━━━━━━━━\u001b[0m \u001b[32m2.1/2.1 MB\u001b[0m \u001b[31m44.7 MB/s\u001b[0m eta \u001b[36m0:00:00\u001b[0m\n",
            "\u001b[?25hRequirement already satisfied: python-dateutil>=2.8.1 in /usr/local/lib/python3.10/dist-packages (from pdfreader) (2.8.2)\n",
            "Requirement already satisfied: six>=1.5 in /usr/local/lib/python3.10/dist-packages (from python-dateutil>=2.8.1->pdfreader) (1.16.0)\n",
            "Building wheels for collected packages: pdfreader\n",
            "  Building wheel for pdfreader (setup.py) ... \u001b[?25l\u001b[?25hdone\n",
            "  Created wheel for pdfreader: filename=pdfreader-0.1.12-py3-none-any.whl size=134538 sha256=7f77663a4eddfb92a96737c79207791ad859f5c79252ac4d7793eba74c9394f2\n",
            "  Stored in directory: /root/.cache/pip/wheels/92/7d/f1/8b8a503d8b444a82e4c3c8b1230c02316c7579b90542de4495\n",
            "Successfully built pdfreader\n",
            "Installing collected packages: bitarray, pycryptodome, pdfreader\n",
            "Successfully installed bitarray-2.9.2 pdfreader-0.1.12 pycryptodome-3.20.0\n"
          ]
        }
      ]
    },
    {
      "cell_type": "code",
      "source": [
        "from pdfreader import PDFDocument, SimplePDFViewer"
      ],
      "metadata": {
        "id": "zMTgSHk169TY"
      },
      "execution_count": 48,
      "outputs": []
    },
    {
      "cell_type": "code",
      "source": [
        "fd = open(\"7690\", \"rb\")\n",
        "doc = SimplePDFViewer(fd)"
      ],
      "metadata": {
        "id": "bB0pRlb07Cao"
      },
      "execution_count": 69,
      "outputs": []
    },
    {
      "cell_type": "code",
      "source": [
        "doc.metadata"
      ],
      "metadata": {
        "colab": {
          "base_uri": "https://localhost:8080/"
        },
        "id": "497fNnEa78yP",
        "outputId": "022adb19-8f52-4b7a-f9ff-af8f33c81ad2"
      },
      "execution_count": 65,
      "outputs": [
        {
          "output_type": "execute_result",
          "data": {
            "text/plain": [
              "{'Author': '',\n",
              " 'CreationDate': datetime.datetime(2024, 2, 29, 14, 49, 43, tzinfo=tzoffset(None, 10800)),\n",
              " 'Creator': 'Aspose Ltd.',\n",
              " 'ModDate': datetime.datetime(2024, 2, 29, 16, 51, 57, tzinfo=tzoffset(None, 10800)),\n",
              " 'Producer': 'Aspose.PDF for .NET 21.5.0',\n",
              " 'Subject': '',\n",
              " 'Title': ''}"
            ]
          },
          "metadata": {},
          "execution_count": 65
        }
      ]
    },
    {
      "cell_type": "code",
      "source": [
        "doc.render()\n",
        "text = \"\".join(doc.canvas.strings)"
      ],
      "metadata": {
        "colab": {
          "base_uri": "https://localhost:8080/"
        },
        "id": "p6QvddwA8-GJ",
        "outputId": "4f95acb2-4537-475d-86c2-9899c8fec135"
      },
      "execution_count": 72,
      "outputs": [
        {
          "output_type": "stream",
          "name": "stderr",
          "text": [
            "WARNING:root:Binary data. Using default encoding. Possibly arg of unsupported operator: <class 'bytes'>\n",
            "WARNING:root:Binary data. Using default encoding. Possibly arg of unsupported operator: <class 'bytes'>\n",
            "WARNING:root:Binary data. Using default encoding. Possibly arg of unsupported operator: <class 'bytes'>\n"
          ]
        }
      ]
    },
    {
      "cell_type": "code",
      "source": [
        "text"
      ],
      "metadata": {
        "colab": {
          "base_uri": "https://localhost:8080/",
          "height": 243
        },
        "id": "wALc9cQs9BQj",
        "outputId": "4ba28330-12c8-4365-e9d8-25541c450b64"
      },
      "execution_count": 73,
      "outputs": [
        {
          "output_type": "execute_result",
          "data": {
            "text/plain": [
              "'    ЦЕНТРАЛЬНЫЙ БАНК РОССИЙСКОЙ ФЕДЕРАЦИИ (БАНК РОССИИ) 107016, Москва, ул. Неглинная, д. 12, к. В www.cbr.ru           тел.: (499) 300-30-00, 8 (800) 300-30-00   От [REGNUMDATESTAMP]  Информационное письмо Банка России о рисках совершения операций с цифровыми валютами и рекомендациях финансовым организациям исключить предложение услуг, предусматривающих совершение таких операций       Кредитным организациям  Некредитным финансовым организациям     Результаты мониторинга состояния финансового рынка Российской Федерации и осуществления Банком России надзорной деятельности свидетельствуют о сохранении интереса к рынку цифровых валют  среди клиентов финансовых организаций, поднадзорных Банку России  (далее – финансовые организации).   Ранее Банк России неоднократно отмечал, что распространение цифровых валют в Российской Федерации сопряжено с высокими рисками  для благосостояния российских граждан и стабильности финансовой   системы, а также рисками вовлечения клиентов финансовых организаций  в противоправную деятельность, включая легализацию (отмывание)           доходов, полученных преступным путем, и финансирование терроризма1. Банк России считает необходимым минимизировать участие финансовых организаций в деятельности, которая может способствовать  1 Информация о рисках и угрозах, сопутствующих распространению криптоактивов («виртуальных валют», криптовалют), размещена на официальном сайте Банка России в информационно-телекоммуникационной сети «Интернет» (пресс-релиз от 27.01.2014 «Об использовании при совершении сделок «виртуальных валют», в частности, биткойна;   пресс-релиз от 04.09.2017 «Об использовании частных «виртуальных валют» (криптовалют)»; доклад для общественных консультаций от 20.01.2022 «Криптовалюты: тренды, риски, меры»).   '"
            ],
            "application/vnd.google.colaboratory.intrinsic+json": {
              "type": "string"
            }
          },
          "metadata": {},
          "execution_count": 73
        }
      ]
    },
    {
      "cell_type": "code",
      "source": [
        "doc.render()\n",
        "text = \"\".join(doc.canvas.strings)"
      ],
      "metadata": {
        "id": "zA905QcV8sDT"
      },
      "execution_count": 74,
      "outputs": []
    },
    {
      "cell_type": "code",
      "source": [
        "text"
      ],
      "metadata": {
        "colab": {
          "base_uri": "https://localhost:8080/",
          "height": 243
        },
        "id": "T601xNZz8ycM",
        "outputId": "113b0f4b-e2b5-45a0-ec70-dc59bf5b78aa"
      },
      "execution_count": 75,
      "outputs": [
        {
          "output_type": "execute_result",
          "data": {
            "text/plain": [
              "'    ЦЕНТРАЛЬНЫЙ БАНК РОССИЙСКОЙ ФЕДЕРАЦИИ (БАНК РОССИИ) 107016, Москва, ул. Неглинная, д. 12, к. В www.cbr.ru           тел.: (499) 300-30-00, 8 (800) 300-30-00   От [REGNUMDATESTAMP]  Информационное письмо Банка России о рисках совершения операций с цифровыми валютами и рекомендациях финансовым организациям исключить предложение услуг, предусматривающих совершение таких операций       Кредитным организациям  Некредитным финансовым организациям     Результаты мониторинга состояния финансового рынка Российской Федерации и осуществления Банком России надзорной деятельности свидетельствуют о сохранении интереса к рынку цифровых валют  среди клиентов финансовых организаций, поднадзорных Банку России  (далее – финансовые организации).   Ранее Банк России неоднократно отмечал, что распространение цифровых валют в Российской Федерации сопряжено с высокими рисками  для благосостояния российских граждан и стабильности финансовой   системы, а также рисками вовлечения клиентов финансовых организаций  в противоправную деятельность, включая легализацию (отмывание)           доходов, полученных преступным путем, и финансирование терроризма1. Банк России считает необходимым минимизировать участие финансовых организаций в деятельности, которая может способствовать  1 Информация о рисках и угрозах, сопутствующих распространению криптоактивов («виртуальных валют», криптовалют), размещена на официальном сайте Банка России в информационно-телекоммуникационной сети «Интернет» (пресс-релиз от 27.01.2014 «Об использовании при совершении сделок «виртуальных валют», в частности, биткойна;   пресс-релиз от 04.09.2017 «Об использовании частных «виртуальных валют» (криптовалют)»; доклад для общественных консультаций от 20.01.2022 «Криптовалюты: тренды, риски, меры»).   '"
            ],
            "application/vnd.google.colaboratory.intrinsic+json": {
              "type": "string"
            }
          },
          "metadata": {},
          "execution_count": 75
        }
      ]
    },
    {
      "cell_type": "code",
      "source": [
        "for canvas in doc:\n",
        "  page_images = canvas.images\n",
        "  page_forms = canvas.forms\n",
        "  page_text = canvas.text_content\n",
        "  page_inline_images = canvas.inline_images\n",
        "  page_strings = canvas.strings\n",
        "  print(page_strings)"
      ],
      "metadata": {
        "colab": {
          "base_uri": "https://localhost:8080/"
        },
        "id": "yTWROzJK7E2E",
        "outputId": "20fd21d5-8b65-46db-ffe3-05edf1a91787"
      },
      "execution_count": 66,
      "outputs": [
        {
          "output_type": "stream",
          "name": "stderr",
          "text": [
            "WARNING:root:Binary data. Using default encoding. Possibly arg of unsupported operator: <class 'bytes'>\n",
            "WARNING:root:Binary data. Using default encoding. Possibly arg of unsupported operator: <class 'bytes'>\n",
            "WARNING:root:Binary data. Using default encoding. Possibly arg of unsupported operator: <class 'bytes'>\n"
          ]
        },
        {
          "output_type": "stream",
          "name": "stdout",
          "text": [
            "[' ', ' ', ' ', ' ', 'ЦЕНТР', 'А', 'ЛЬНЫЙ', ' ', 'БАНК', ' ', 'РОССИЙСКОЙ', ' ', 'ФЕДЕ', 'РА', 'Ц', 'ИИ', ' ', '(БАНК', ' ', 'РОССИИ)', ' ', '107016, ', 'Москва,', ' ', 'ул.', ' ', 'Неглинн', 'а', 'я,', ' ', 'д.', ' 12, ', 'к.', ' ', 'В', ' ', 'www', '.', 'cbr', '.', 'ru', ' ', '          ', 'тел.:', ' (499) 300-30-00, 8 (800) 300-30-00 ', ' ', ' ', 'От', ' ', '[REGNUM', 'DATESTAMP]', ' ', ' ', 'Информационн', 'ое', ' ', 'п', 'исьм', 'о', ' ', 'Б', 'а', 'н', 'к', 'а', ' ', 'России', ' ', 'о', ' ', 'рисках', ' ', 'соверше', 'н', 'ия', ' ', 'операций', ' ', 'с', ' ', 'цифровыми', ' ', 'валютами', ' ', 'и', ' ', 'рекоме', 'н', 'д', 'аци', 'я', 'х', ' ', 'фи', 'нансовым', ' ', 'организациям', ' ', 'исключить', ' ', 'предложение', ' ', 'услуг,', ' ', 'предусм', 'атрив', 'а', 'ю', 'щих', ' ', 'соверше', 'н', 'ие', ' ', 'так', 'и', 'х', ' ', 'оп', 'ера', 'ц', 'ий', ' ', ' ', ' ', ' ', ' ', ' ', ' ', 'Кредитным', ' ', 'организациям', ' ', ' ', 'Некред', 'и', 'тным', ' ', 'ф', 'и', 'нансовым', ' ', 'организациям', ' ', ' ', ' ', ' ', ' ', 'Результаты', ' ', 'мониторин', 'га', ' ', 'состояния', ' ', 'финансовог', 'о', ' ', 'рынка', ' ', 'Российской', ' ', 'Федера', 'ц', 'ии', ' ', 'и', ' ', 'осуществления', ' ', 'Банком', ' ', 'России', ' ', 'надзорной', ' ', 'деятельности', ' ', 'свидетельствуют', ' ', 'о', ' ', 'сохранении', ' ', 'и', 'нтере', 'са', ' ', 'к', ' ', 'рынку', ' ', 'ци', 'фровых', ' ', 'валют', ' ', ' ', 'сред', 'и', ' ', 'клиентов', ' ', 'финансовых', ' ', 'органи', 'за', 'ц', 'ий,', ' ', 'поднадзорных', ' ', 'Банку', ' ', 'России', ' ', ' ', '(далее', ' – ', 'фин', 'а', 'н', 'с', 'ов', 'ые', ' ', 'орг', 'а', 'н', 'изации).', '  ', ' ', 'Ранее', ' ', 'Банк', ' ', 'Росс', 'и', 'и', ' ', 'неоднократно', ' ', 'отмеча', 'л,', ' ', 'что', ' ', 'распространение', ' ', 'цифровых', ' ', 'валют', ' ', 'в', ' ', 'Росс', 'и', 'йск', 'ой', ' ', 'Фе', 'дерации', ' ', 'сопряжено', ' ', 'с', ' ', 'высокими', ' ', 'рисками', ' ', ' ', 'для', ' ', 'благосостояния', ' ', 'российских', ' ', 'г', 'раж', 'дан', ' ', 'и', ' ', 'стабильности', ' ', 'фин', 'а', 'н', 'с', 'ов', 'ой', '   ', 'системы', ',', ' ', 'а', ' ', 'такж', 'е', ' ', 'риск', 'ами', ' ', 'вовлечения', ' ', 'клиентов', ' ', 'финансовых', ' ', 'организаци', 'й', ' ', ' ', 'в', ' ', 'проти', 'воправную', ' ', 'деятельность,', ' ', 'включая', ' ', 'легализацию', ' ', '(отмывание)', '           ', 'доходов,', ' ', 'полученных', ' ', 'преступным', ' ', 'путем,', ' ', 'и', ' ', 'финансирование', ' ', 'терроризма', '1', '.', ' ', 'Банк', ' ', 'Р', 'ос', 'сии', ' ', 'считает', ' ', 'необходим', 'ым', ' ', 'мин', 'имизировать', ' ', 'участие', ' ', 'финансовых', ' ', 'организаций', ' ', 'в', ' ', 'деятельности,', ' ', 'которая', ' ', 'може', 'т', ' ', 'способствовать', ' ', ' ', '1', ' ', 'Ин', 'форм', 'аци', 'я', ' ', 'о', ' ', 'рисках', ' ', 'и', ' ', 'угрозах,', ' ', 'сопутствующих', ' ', 'распространению', ' ', 'криптоактивов', ' ', '(«в', 'иртуальных', ' ', 'валют»,', ' ', 'криптовалют),', ' ', 'размещена', ' ', 'на', ' ', 'официальном', ' ', 'сайте', ' ', 'Банка', ' ', 'России', ' ', 'в', ' ', 'информационн', 'о-', 'телеком', 'муни', 'к', 'аци', 'онной', ' ', 'се', 'т', 'и', ' ', '«И', 'нтернет»', ' ', '(', 'прес', 'с-релиз', ' ', 'от', ' ', '27.01.2014 ', '«Об', ' ', 'и', 'с', 'п', 'ользовании', ' ', 'при', ' ', 'совершении', ' ', 'сде', 'л', 'ок', ' ', '«в', 'иртуальных', ' ', 'валют»,', ' ', 'в', ' ', 'частности,', ' ', 'биткойна;', ' ', ' ', ' ', 'пресс-релиз', ' ', 'от', ' ', '04.09.2017 ', '«О', 'б', ' ', 'и', 'с', 'п', 'ользовании', ' ', 'частных', ' ', '«виртуальных', ' ', 'валют»', ' ', '(к', 'ри', 'птовалют)»;', ' ', 'доклад', ' ', 'для', ' ', 'об', 'щественных', ' ', 'консультаций', ' ', 'от', ' ', '20.01.2022 ', '«Криптовалюты:', ' ', 'тренды,', ' ', 'риски,', ' ', 'ме', 'ры»).', '  ', ' ']\n",
            "['2', ' ', 'осуществлению', ' ', 'опера', 'ц', 'ий', ' ', 'с', ' ', 'цифровыми', ' ', 'валютам', 'и', ',', ' ', 'которые', ' ', 'сопряжены', ' ', 'с', ' ', 'ук', 'азанными', ' ', 'рискам', 'и', ',', ' ', 'в', ' ', 'том', ' ', 'чи', 'с', 'ле', ' ', 'со', ' ', 'связанн', 'ы', 'ми', ' ', 'с', ' ', 'ними', ' ', 'фи', 'нансовым', 'и', ' ', 'инструментами', ' ', '(далее', ' ', '– ', 'операции,', ' ', 'связанные', ' ', 'с', ' ', 'об', 'оротом', ' ', 'цифровых', ' ', 'валют).', '    ', 'В', ' ', 'связи', ' ', 'с', ' ', 'этим', ' ', 'Б', 'а', 'н', 'к', ' ', 'России', ' ', 'рекоме', 'н', 'д', 'ует', ' ', 'финансовым', ' ', 'организациям', ' ', 'п', 'ри', ' ', 'распространении', ' ', 'информации', ' ', 'о', ' ', 'своих', ' ', 'услугах,', ' ', 'в', ' ', 'том', ' ', 'числе', ' ', 'реклам', 'н', 'ого', ' ', 'характе', 'ра,', ' ', 'исключить', ' ', 'лю', 'б', 'ую', ' ', 'и', 'нформа', 'ц', 'ию,', ' ', 'предполагающую', ' ', 'возможность', ' ', 'совершения', ' ', 'клиентами', ' ', 'операций,', ' ', 'связанных', ' ', 'с', ' ', 'оборотом', ' ', 'цифровых', ' ', 'валют.', ' ', 'Настоящее', ' ', 'И', 'нформ', 'аци', 'онное', ' ', 'письмо', ' ', 'Б', 'а', 'н', 'к', 'а', ' ', 'России', ' ', 'подлежит', ' ', 'размеще', 'н', 'ию', ' ', 'на', ' ', 'офиц', 'иальном', ' ', 'сайте', ' ', 'Банка', ' ', 'Росс', 'и', 'и', ' ', 'в', ' ', 'и', 'нформа', 'ц', 'ионно-', 'телеком', 'муни', 'к', 'аци', 'онной', ' ', 'сети', ' ', '«Интернет».', ' ', 'Заме', 'стит', 'е', 'ль', ' ', 'П', 'ре', 'дседате', 'ля', ' ', 'Банка', ' ', 'России', ' ', 'О.В.', ' ', 'Полякова', ' ']\n"
          ]
        }
      ]
    },
    {
      "cell_type": "code",
      "source": [
        "import subprocess\n",
        "import os\n",
        "\n",
        "class DocumentHolder:\n",
        "    try:\n",
        "        os.mkdir(\"docs\")\n",
        "    except:\n",
        "        pass\n",
        "\n",
        "    N = len(os.listdir(\"docs\"))\n",
        "\n",
        "    def __init__(self, url) -> None:\n",
        "        self.url = url\n",
        "        self.text = {}\n",
        "        self.load_doc()\n",
        "        self.read_file()\n",
        "\n",
        "    def load_doc(self):\n",
        "        try:\n",
        "            subprocess.call(f\"curl -o docs/{self.N}.pdf {self.url}\", shell=True, executable=\"/bin/bash\")\n",
        "            self.filename = f\"{self.N}.pdf\"\n",
        "            self.N += 1\n",
        "        except Exception as ex:\n",
        "            print(ex)\n",
        "\n",
        "    def read_file(self):\n",
        "        self.fd = open(\"docs/\" + self.filename,  \"rb\")\n",
        "        self.viewer = SimplePDFViewer(self.fd)\n",
        "\n",
        "        cnt = 1\n",
        "        for canvas in self.viewer:\n",
        "            self.text[cnt] = \"\".join(canvas.strings)\n",
        "            cnt += 1\n",
        "\n",
        "doc = DocumentHolder(\"https://www.cbr.ru/Crosscut/LawActs/File/7690\")"
      ],
      "metadata": {
        "colab": {
          "base_uri": "https://localhost:8080/"
        },
        "id": "Lbmwpr9e7QTA",
        "outputId": "6e473cff-dbf3-4cfb-aa5b-3f72b0bc615a"
      },
      "execution_count": 85,
      "outputs": [
        {
          "output_type": "stream",
          "name": "stderr",
          "text": [
            "WARNING:root:Binary data. Using default encoding. Possibly arg of unsupported operator: <class 'bytes'>\n",
            "WARNING:root:Binary data. Using default encoding. Possibly arg of unsupported operator: <class 'bytes'>\n",
            "WARNING:root:Binary data. Using default encoding. Possibly arg of unsupported operator: <class 'bytes'>\n"
          ]
        }
      ]
    },
    {
      "cell_type": "code",
      "source": [
        "doc.text"
      ],
      "metadata": {
        "colab": {
          "base_uri": "https://localhost:8080/"
        },
        "id": "ToDAmXYk_yTT",
        "outputId": "f69833b9-138e-4f31-8059-5c80a6bf7b99"
      },
      "execution_count": 87,
      "outputs": [
        {
          "output_type": "execute_result",
          "data": {
            "text/plain": [
              "{1: '    ЦЕНТРАЛЬНЫЙ БАНК РОССИЙСКОЙ ФЕДЕРАЦИИ (БАНК РОССИИ) 107016, Москва, ул. Неглинная, д. 12, к. В www.cbr.ru           тел.: (499) 300-30-00, 8 (800) 300-30-00   От [REGNUMDATESTAMP]  Информационное письмо Банка России о рисках совершения операций с цифровыми валютами и рекомендациях финансовым организациям исключить предложение услуг, предусматривающих совершение таких операций       Кредитным организациям  Некредитным финансовым организациям     Результаты мониторинга состояния финансового рынка Российской Федерации и осуществления Банком России надзорной деятельности свидетельствуют о сохранении интереса к рынку цифровых валют  среди клиентов финансовых организаций, поднадзорных Банку России  (далее – финансовые организации).   Ранее Банк России неоднократно отмечал, что распространение цифровых валют в Российской Федерации сопряжено с высокими рисками  для благосостояния российских граждан и стабильности финансовой   системы, а также рисками вовлечения клиентов финансовых организаций  в противоправную деятельность, включая легализацию (отмывание)           доходов, полученных преступным путем, и финансирование терроризма1. Банк России считает необходимым минимизировать участие финансовых организаций в деятельности, которая может способствовать  1 Информация о рисках и угрозах, сопутствующих распространению криптоактивов («виртуальных валют», криптовалют), размещена на официальном сайте Банка России в информационно-телекоммуникационной сети «Интернет» (пресс-релиз от 27.01.2014 «Об использовании при совершении сделок «виртуальных валют», в частности, биткойна;   пресс-релиз от 04.09.2017 «Об использовании частных «виртуальных валют» (криптовалют)»; доклад для общественных консультаций от 20.01.2022 «Криптовалюты: тренды, риски, меры»).   ',\n",
              " 2: '2 осуществлению операций с цифровыми валютами, которые сопряжены с указанными рисками, в том числе со связанными с ними финансовыми инструментами (далее – операции, связанные с оборотом цифровых валют).    В связи с этим Банк России рекомендует финансовым организациям при распространении информации о своих услугах, в том числе рекламного характера, исключить любую информацию, предполагающую возможность совершения клиентами операций, связанных с оборотом цифровых валют. Настоящее Информационное письмо Банка России подлежит размещению на официальном сайте Банка России в информационно-телекоммуникационной сети «Интернет». Заместитель Председателя Банка России О.В. Полякова '}"
            ]
          },
          "metadata": {},
          "execution_count": 87
        }
      ]
    },
    {
      "cell_type": "code",
      "source": [
        "import numpy as np\n",
        "\n",
        "def get_detailed_instruct(query: str, task_description: str = 'Given a web search query, retrieve relevant passages that answer the query') -> str:\n",
        "    return f'Instruct: {task_description}\\nQuery: {query}'\n",
        "\n",
        "class Encoder:\n",
        "    def __init__(self, text_by_pages: dict[int,str], document_name: str = \"\", chunk_size: int = 1) -> None:\n",
        "        self.text_by_pages = text_by_pages\n",
        "        self.document_name = document_name\n",
        "        self.chunk_size = chunk_size\n",
        "        self.encoded_text_by_pages = text_by_pages.copy()\n",
        "        self.model = SentenceTransformer('intfloat/multilingual-e5-large-instruct')\n",
        "\n",
        "    def encode_document(self):\n",
        "        for page_key in self.text_by_pages:\n",
        "            chunk = \"\"\n",
        "            for i in range(self.chunk_size):\n",
        "                chunk += self.text_by_pages.get(page_key + i, \"\")\n",
        "            embedding = self.model.encode(chunk, normalize_embeddings=True)\n",
        "            self.encoded_text_by_pages[page_key] = embedding\n",
        "        return self.encoded_text_by_pages\n",
        "\n",
        "    def encode_query(self, query: str):\n",
        "        return self.model.encode(get_detailed_instruct(query))\n",
        "\n",
        "\n",
        "class VectorCalculator:\n",
        "    def __init__(self, encoded_query, encoded_document_by_chunks: dict[int, str]) -> None:\n",
        "        self.encoded_query = encoded_query\n",
        "        self.encoded_document_by_chunks = encoded_document_by_chunks\n",
        "        self.scores = []\n",
        "\n",
        "    def get_score_by_chunk(self, chunk_num):\n",
        "        vec = self.encoded_document_by_chunks[chunk_num]\n",
        "        return vec @ self.encoded_query / np.linalg.norm(vec)\n",
        "\n",
        "    def get_scores(self):\n",
        "        self.scores = [self.get_score_by_chunk(chunk_num) for chunk_num in self.encoded_document_by_chunks]\n",
        "        return self.scores\n",
        "\n",
        "\n",
        "class RAG:\n",
        "    pass"
      ],
      "metadata": {
        "id": "w7CHyhFKCWMD"
      },
      "execution_count": 97,
      "outputs": []
    },
    {
      "cell_type": "code",
      "source": [],
      "metadata": {
        "id": "YA9pj6QMy4jH"
      },
      "execution_count": null,
      "outputs": []
    },
    {
      "cell_type": "code",
      "source": [
        "# FOR SANYA\n",
        "\n",
        "urls = []\n",
        "\n",
        "for url in urls:\n",
        "  doc = DocumentHolder(url)\n",
        "  encoder = Encoder(doc.text)\n",
        "  query_embedded = encoder.encode_query(\"Совет директоров Банка России принял решение от 26 12 2023, какое?\")\n",
        "  chunks_embedded = encoder.encode_document()\n",
        "  vec = VectorCalculator(query_embedded, chunks_embedded)\n",
        "\n"
      ],
      "metadata": {
        "id": "kIH75hmXxluZ"
      },
      "execution_count": null,
      "outputs": []
    },
    {
      "cell_type": "code",
      "source": [
        "doc = DocumentHolder(\"https://www.cbr.ru/Crosscut/LawActs/File/7668\")\n",
        "encoder = Encoder(doc.text)\n"
      ],
      "metadata": {
        "id": "Cq9hEpGrZndV"
      },
      "execution_count": null,
      "outputs": []
    },
    {
      "cell_type": "code",
      "source": [
        "vec = VectorCalculator(encoder.encode_query(\"Совет директоров Банка России принял решение от 26 12 2023, какое?\"),encoder.encode_document())"
      ],
      "metadata": {
        "id": "yEl1Dn8RbBD4"
      },
      "execution_count": 102,
      "outputs": []
    },
    {
      "cell_type": "code",
      "source": [
        "vec.get_scores()"
      ],
      "metadata": {
        "id": "6K2vE1IEakOe"
      },
      "execution_count": 103,
      "outputs": []
    },
    {
      "cell_type": "code",
      "source": [
        "encoder.text_by_pages[]"
      ],
      "metadata": {
        "colab": {
          "base_uri": "https://localhost:8080/",
          "height": 191
        },
        "id": "a8SVANEAbaZJ",
        "outputId": "25144718-317c-4cf8-d9f6-ace27f103c35"
      },
      "execution_count": 109,
      "outputs": [
        {
          "output_type": "execute_result",
          "data": {
            "text/plain": [
              "'3 предоставлением информации указанным третьим лицам, а также учитывать необходимость обеспечения сохранности предоставленной информации (например, путем заключения соглашений о неразглашении конфиденциальной информации).  Также в целях снижения риска введения мер ограничительного характера КО (ГКО БГ) рекомендуется, придерживаясь принципа осмотрительности, не раскрывать в МСФО-отчетности чувствительные сведения (сведения, раскрытие которых сопряжено (потенциально сопряжено) с риском введения мер ограничительного характера в отношении КО и (или) иных лиц), не подлежащие раскрытию в РСБУ-отчетности в соответствии с приложением 2 к Решению. Головным организациям банковских холдингов (управляющим компаниям банковских холдингов – в случае возложения на них обязанностей головных организаций банковских холдингов) при подготовке к раскрытию годовой (промежуточной) консолидированной финансовой отчетности рекомендуется учитывать решение Совета директоров Банка России от 26.12.2023, предусматривающее запрет на раскрытие КО (ГКО БГ) чувствительных сведений в МСФО- и РСБУ-отчетности.  Настоящее Информационное письмо Банка России подлежит размещению на официальном сайте Банка России в информационно-телекоммуникационной сети «Интернет». Приложение: 8 файлов. Первый заместитель  Председателя Банка России Д.В. Тулин '"
            ],
            "application/vnd.google.colaboratory.intrinsic+json": {
              "type": "string"
            }
          },
          "metadata": {},
          "execution_count": 109
        }
      ]
    },
    {
      "cell_type": "code",
      "source": [
        "vec.encoded_document_by_chunks[3]"
      ],
      "metadata": {
        "colab": {
          "base_uri": "https://localhost:8080/"
        },
        "id": "t3LJOhONbTcz",
        "outputId": "f88afec4-91c4-4112-bf7b-672b75fa547f"
      },
      "execution_count": 105,
      "outputs": [
        {
          "output_type": "execute_result",
          "data": {
            "text/plain": [
              "array([ 0.01788306,  0.02325751, -0.014547  , ..., -0.00067458,\n",
              "       -0.0288057 , -0.00957037], dtype=float32)"
            ]
          },
          "metadata": {},
          "execution_count": 105
        }
      ]
    },
    {
      "cell_type": "code",
      "source": [
        "np.argmax(vec.scores) + 1"
      ],
      "metadata": {
        "colab": {
          "base_uri": "https://localhost:8080/"
        },
        "id": "IwbhmBGKangX",
        "outputId": "cf180114-8690-4c43-93e8-4cdf40b804a8"
      },
      "execution_count": 108,
      "outputs": [
        {
          "output_type": "execute_result",
          "data": {
            "text/plain": [
              "2"
            ]
          },
          "metadata": {},
          "execution_count": 108
        }
      ]
    },
    {
      "cell_type": "code",
      "source": [
        "#np.argsort(vec.scores)[::-1][:5]"
      ],
      "metadata": {
        "colab": {
          "base_uri": "https://localhost:8080/"
        },
        "id": "QGWEKWJFbx0c",
        "outputId": "e32525cd-a2c7-4f79-d34c-e7da07662044"
      },
      "execution_count": 112,
      "outputs": [
        {
          "output_type": "execute_result",
          "data": {
            "text/plain": [
              "array([ 2,  0,  1, 30, 33])"
            ]
          },
          "metadata": {},
          "execution_count": 112
        }
      ]
    },
    {
      "cell_type": "code",
      "source": [
        "# get 3 most popular ...\n",
        "\n",
        "for i in np.argsort(vec.scores)[::-1][:3]:\n",
        "    print(encoder.text_by_pages[i+1])"
      ],
      "metadata": {
        "id": "VF8vzMdMbuSN"
      },
      "execution_count": null,
      "outputs": []
    },
    {
      "cell_type": "code",
      "source": [],
      "metadata": {
        "id": "KlKVfq_scMtU"
      },
      "execution_count": null,
      "outputs": []
    }
  ],
  "metadata": {
    "kernelspec": {
      "display_name": "Python 3",
      "name": "python3"
    },
    "language_info": {
      "codemirror_mode": {
        "name": "ipython",
        "version": 3
      },
      "file_extension": ".py",
      "mimetype": "text/x-python",
      "name": "python",
      "nbconvert_exporter": "python",
      "pygments_lexer": "ipython3",
      "version": "3.10.12"
    },
    "colab": {
      "provenance": [],
      "gpuType": "T4"
    },
    "accelerator": "GPU"
  },
  "nbformat": 4,
  "nbformat_minor": 0
}