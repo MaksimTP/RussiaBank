{
 "cells": [
  {
   "cell_type": "code",
   "execution_count": 1,
   "metadata": {},
   "outputs": [
    {
     "name": "stdout",
     "output_type": "stream",
     "text": [
      "Defaulting to user installation because normal site-packages is not writeable\n",
      "Collecting clarifai\n",
      "  Downloading clarifai-10.1.1-py3-none-any.whl (161 kB)\n",
      "\u001b[2K     \u001b[90m━━━━━━━━━━━━━━━━━━━━━━━━━━━━━━━━━━━━━\u001b[0m \u001b[32m161.4/161.4 KB\u001b[0m \u001b[31m373.2 kB/s\u001b[0m eta \u001b[36m0:00:00\u001b[0ma \u001b[36m0:00:01\u001b[0m\n",
      "\u001b[?25hCollecting schema>=0.7.5\n",
      "  Downloading schema-0.7.5-py2.py3-none-any.whl (17 kB)\n",
      "Requirement already satisfied: PyYAML>=6.0.1 in /home/charslib/.local/lib/python3.10/site-packages (from clarifai) (6.0.1)\n",
      "Collecting inquirerpy==0.3.4\n",
      "  Downloading InquirerPy-0.3.4-py3-none-any.whl (67 kB)\n",
      "\u001b[2K     \u001b[90m━━━━━━━━━━━━━━━━━━━━━━━━━━━━━━━━━━━━━━━\u001b[0m \u001b[32m67.7/67.7 KB\u001b[0m \u001b[31m324.2 kB/s\u001b[0m eta \u001b[36m0:00:00\u001b[0m \u001b[36m0:00:01\u001b[0m\n",
      "\u001b[?25hRequirement already satisfied: numpy>=1.22.0 in /home/charslib/.local/lib/python3.10/site-packages (from clarifai) (1.24.4)\n",
      "Requirement already satisfied: tqdm>=4.65.0 in /home/charslib/.local/lib/python3.10/site-packages (from clarifai) (4.66.1)\n",
      "Requirement already satisfied: Pillow>=9.5.0 in /home/charslib/.local/lib/python3.10/site-packages (from clarifai) (10.2.0)\n",
      "Collecting clarifai-grpc~=10.1.6\n",
      "  Downloading clarifai_grpc-10.1.6-py3-none-any.whl (226 kB)\n",
      "\u001b[2K     \u001b[90m━━━━━━━━━━━━━━━━━━━━━━━━━━━━━━━━━━━━━\u001b[0m \u001b[32m226.3/226.3 KB\u001b[0m \u001b[31m377.2 kB/s\u001b[0m eta \u001b[36m0:00:00\u001b[0m00:01\u001b[0m00:01\u001b[0m\n",
      "\u001b[?25hCollecting tritonclient>=2.34.0\n",
      "  Downloading tritonclient-2.43.0-py3-none-manylinux1_x86_64.whl (12.4 MB)\n",
      "\u001b[2K     \u001b[90m━━━━━━━━━━━━━━━━━━━━━━━━━━━━━━━━━━━━━━━\u001b[0m \u001b[32m12.4/12.4 MB\u001b[0m \u001b[31m278.3 kB/s\u001b[0m eta \u001b[36m0:00:00\u001b[0m00:01\u001b[0m00:02\u001b[0m\n",
      "\u001b[?25hCollecting rich>=13.4.2\n",
      "  Downloading rich-13.7.1-py3-none-any.whl (240 kB)\n",
      "\u001b[2K     \u001b[90m━━━━━━━━━━━━━━━━━━━━━━━━━━━━━━━━━━━━━\u001b[0m \u001b[32m240.7/240.7 KB\u001b[0m \u001b[31m403.5 kB/s\u001b[0m eta \u001b[36m0:00:00\u001b[0m00:01\u001b[0m00:01\u001b[0m\n",
      "\u001b[?25hRequirement already satisfied: prompt-toolkit<4.0.0,>=3.0.1 in /home/charslib/.local/lib/python3.10/site-packages (from inquirerpy==0.3.4->clarifai) (3.0.39)\n",
      "Collecting pfzy<0.4.0,>=0.3.1\n",
      "  Downloading pfzy-0.3.4-py3-none-any.whl (8.5 kB)\n",
      "Requirement already satisfied: protobuf>=3.20.3 in /home/charslib/.local/lib/python3.10/site-packages (from clarifai-grpc~=10.1.6->clarifai) (4.25.3)\n",
      "Requirement already satisfied: googleapis-common-protos>=1.53.0 in /home/charslib/.local/lib/python3.10/site-packages (from clarifai-grpc~=10.1.6->clarifai) (1.62.0)\n",
      "Requirement already satisfied: grpcio>=1.44.0 in /home/charslib/.local/lib/python3.10/site-packages (from clarifai-grpc~=10.1.6->clarifai) (1.62.0)\n",
      "Requirement already satisfied: requests>=2.25.1 in /home/charslib/.local/lib/python3.10/site-packages (from clarifai-grpc~=10.1.6->clarifai) (2.31.0)\n",
      "Requirement already satisfied: pygments<3.0.0,>=2.13.0 in /home/charslib/.local/lib/python3.10/site-packages (from rich>=13.4.2->clarifai) (2.16.1)\n",
      "Collecting markdown-it-py>=2.2.0\n",
      "  Downloading markdown_it_py-3.0.0-py3-none-any.whl (87 kB)\n",
      "\u001b[2K     \u001b[90m━━━━━━━━━━━━━━━━━━━━━━━━━━━━━━━━━━━━━━━\u001b[0m \u001b[32m87.5/87.5 KB\u001b[0m \u001b[31m155.9 kB/s\u001b[0m eta \u001b[36m0:00:00\u001b[0ma \u001b[36m0:00:01\u001b[0m\n",
      "\u001b[?25hCollecting contextlib2>=0.5.5\n",
      "  Downloading contextlib2-21.6.0-py2.py3-none-any.whl (13 kB)\n",
      "Collecting urllib3>=2.0.7\n",
      "  Downloading urllib3-2.2.1-py3-none-any.whl (121 kB)\n",
      "\u001b[2K     \u001b[90m━━━━━━━━━━━━━━━━━━━━━━━━━━━━━━━━━━━━━\u001b[0m \u001b[32m121.1/121.1 KB\u001b[0m \u001b[31m358.6 kB/s\u001b[0m eta \u001b[36m0:00:00\u001b[0ma \u001b[36m0:00:01\u001b[0m\n",
      "\u001b[?25hCollecting python-rapidjson>=0.9.1\n",
      "  Downloading python_rapidjson-1.16-cp310-cp310-manylinux_2_17_x86_64.manylinux2014_x86_64.whl (1.7 MB)\n",
      "\u001b[2K     \u001b[90m━━━━━━━━━━━━━━━━━━━━━━━━━━━━━━━━━━━━━━━━\u001b[0m \u001b[32m1.7/1.7 MB\u001b[0m \u001b[31m626.5 kB/s\u001b[0m eta \u001b[36m0:00:00\u001b[0m00:01\u001b[0m00:01\u001b[0m\n",
      "\u001b[?25hCollecting mdurl~=0.1\n",
      "  Using cached mdurl-0.1.2-py3-none-any.whl (10.0 kB)\n",
      "Requirement already satisfied: wcwidth in /home/charslib/.local/lib/python3.10/site-packages (from prompt-toolkit<4.0.0,>=3.0.1->inquirerpy==0.3.4->clarifai) (0.2.8)\n",
      "Requirement already satisfied: certifi>=2017.4.17 in /home/charslib/.local/lib/python3.10/site-packages (from requests>=2.25.1->clarifai-grpc~=10.1.6->clarifai) (2023.7.22)\n",
      "Requirement already satisfied: idna<4,>=2.5 in /usr/lib/python3/dist-packages (from requests>=2.25.1->clarifai-grpc~=10.1.6->clarifai) (3.3)\n",
      "Requirement already satisfied: charset-normalizer<4,>=2 in /home/charslib/.local/lib/python3.10/site-packages (from requests>=2.25.1->clarifai-grpc~=10.1.6->clarifai) (3.3.0)\n",
      "Installing collected packages: urllib3, python-rapidjson, pfzy, mdurl, contextlib2, tritonclient, schema, markdown-it-py, inquirerpy, rich, clarifai-grpc, clarifai\n",
      "Successfully installed clarifai-10.1.1 clarifai-grpc-10.1.6 contextlib2-21.6.0 inquirerpy-0.3.4 markdown-it-py-3.0.0 mdurl-0.1.2 pfzy-0.3.4 python-rapidjson-1.16 rich-13.7.1 schema-0.7.5 tritonclient-2.43.0 urllib3-2.2.1\n"
     ]
    }
   ],
   "source": [
    "!pip install clarifai"
   ]
  },
  {
   "cell_type": "code",
   "execution_count": 5,
   "metadata": {},
   "outputs": [
    {
     "name": "stdout",
     "output_type": "stream",
     "text": [
      "env: CLARIFAI_PAT=e6ceb52a3da54ae7830728ae293a35c3\n"
     ]
    }
   ],
   "source": [
    "%env CLARIFAI_PAT = e6ceb52a3da54ae7830728ae293a35c3"
   ]
  },
  {
   "cell_type": "code",
   "execution_count": 7,
   "metadata": {},
   "outputs": [
    {
     "name": "stdout",
     "output_type": "stream",
     "text": [
      "\u001b[2;36m2024-03-08 13:16:37\u001b[0m\u001b[2;36m \u001b[0m\u001b[34mINFO    \u001b[0m clarifai.client.user:                   \u001b]8;id=906604;file:///home/charslib/.local/lib/python3.10/site-packages/clarifai/client/user.py\u001b\\\u001b[2muser.py\u001b[0m\u001b]8;;\u001b\\\u001b[2m:\u001b[0m\u001b]8;id=587820;file:///home/charslib/.local/lib/python3.10/site-packages/clarifai/client/user.py#127\u001b\\\u001b[2m127\u001b[0m\u001b]8;;\u001b\\\n",
      "\u001b[2;36m                    \u001b[0m         App created                             \u001b[2m           \u001b[0m\n",
      "\u001b[2;36m                    \u001b[0m         code: SUCCESS                           \u001b[2m           \u001b[0m\n",
      "\u001b[2;36m                    \u001b[0m         description: \u001b[32m\"Ok\"\u001b[0m                       \u001b[2m           \u001b[0m\n",
      "\u001b[2;36m                    \u001b[0m         req_id:                                 \u001b[2m           \u001b[0m\n",
      "\u001b[2;36m                    \u001b[0m         \u001b[32m\"d0e829faf85ec7c6e4b8dfbb3f921a6b\"\u001b[0m      \u001b[2m           \u001b[0m\n",
      "\u001b[2;36m                    \u001b[0m                                                 \u001b[2m           \u001b[0m\n",
      "\u001b[2;36m2024-03-08 13:16:54\u001b[0m\u001b[2;36m \u001b[0m\u001b[34mINFO    \u001b[0m clarifai.client.app:                     \u001b]8;id=409731;file:///home/charslib/.local/lib/python3.10/site-packages/clarifai/client/app.py\u001b\\\u001b[2mapp.py\u001b[0m\u001b]8;;\u001b\\\u001b[2m:\u001b[0m\u001b]8;id=116913;file:///home/charslib/.local/lib/python3.10/site-packages/clarifai/client/app.py#334\u001b\\\u001b[2m334\u001b[0m\u001b]8;;\u001b\\\n",
      "\u001b[2;36m                    \u001b[0m         Model created                            \u001b[2m          \u001b[0m\n",
      "\u001b[2;36m                    \u001b[0m         code: SUCCESS                            \u001b[2m          \u001b[0m\n",
      "\u001b[2;36m                    \u001b[0m         description: \u001b[32m\"Ok\"\u001b[0m                        \u001b[2m          \u001b[0m\n",
      "\u001b[2;36m                    \u001b[0m         req_id:                                  \u001b[2m          \u001b[0m\n",
      "\u001b[2;36m                    \u001b[0m         \u001b[32m\"a2c62647d48f7e7c5cbd2a882203a087\"\u001b[0m       \u001b[2m          \u001b[0m\n",
      "\u001b[2;36m                    \u001b[0m                                                  \u001b[2m          \u001b[0m\n",
      "\u001b[2;36m2024-03-08 13:17:11\u001b[0m\u001b[2;36m \u001b[0m\u001b[34mINFO    \u001b[0m clarifai.client.model:                 \u001b]8;id=161317;file:///home/charslib/.local/lib/python3.10/site-packages/clarifai/client/model.py\u001b\\\u001b[2mmodel.py\u001b[0m\u001b]8;;\u001b\\\u001b[2m:\u001b[0m\u001b]8;id=834516;file:///home/charslib/.local/lib/python3.10/site-packages/clarifai/client/model.py#335\u001b\\\u001b[2m335\u001b[0m\u001b]8;;\u001b\\\n",
      "\u001b[2;36m                    \u001b[0m         Model Version created                  \u001b[2m            \u001b[0m\n",
      "\u001b[2;36m                    \u001b[0m         code: SUCCESS                          \u001b[2m            \u001b[0m\n",
      "\u001b[2;36m                    \u001b[0m         description: \u001b[32m\"Ok\"\u001b[0m                      \u001b[2m            \u001b[0m\n",
      "\u001b[2;36m                    \u001b[0m         req_id:                                \u001b[2m            \u001b[0m\n",
      "\u001b[2;36m                    \u001b[0m         \u001b[32m\"e13fd89cafcd38f2efbb13331217ec25\"\u001b[0m     \u001b[2m            \u001b[0m\n",
      "\u001b[2;36m                    \u001b[0m                                                \u001b[2m            \u001b[0m\n",
      "\u001b[2;36m2024-03-08 13:17:12\u001b[0m\u001b[2;36m \u001b[0m\u001b[34mINFO    \u001b[0m clarifai.client.app:                     \u001b]8;id=748672;file:///home/charslib/.local/lib/python3.10/site-packages/clarifai/client/app.py\u001b\\\u001b[2mapp.py\u001b[0m\u001b]8;;\u001b\\\u001b[2m:\u001b[0m\u001b]8;id=484042;file:///home/charslib/.local/lib/python3.10/site-packages/clarifai/client/app.py#422\u001b\\\u001b[2m422\u001b[0m\u001b]8;;\u001b\\\n",
      "\u001b[2;36m                    \u001b[0m         Workflow created                         \u001b[2m          \u001b[0m\n",
      "\u001b[2;36m                    \u001b[0m         code: SUCCESS                            \u001b[2m          \u001b[0m\n",
      "\u001b[2;36m                    \u001b[0m         description: \u001b[32m\"Ok\"\u001b[0m                        \u001b[2m          \u001b[0m\n",
      "\u001b[2;36m                    \u001b[0m         req_id:                                  \u001b[2m          \u001b[0m\n",
      "\u001b[2;36m                    \u001b[0m         \u001b[32m\"4fe9567e3ea0ea80c4c755a32d34bf6f\"\u001b[0m       \u001b[2m          \u001b[0m\n",
      "\u001b[2;36m                    \u001b[0m                                                  \u001b[2m          \u001b[0m\n",
      "\u001b[32m Input\u001b[0m\n",
      "\u001b[37m╚══ \u001b[0m\u001b[3;37m                            Node: rag-prompter                             \u001b[0m\n",
      "\u001b[37m    \u001b[0m\u001b[37m┏━━━━━━━━━━━━━━━━━━━━━━━━━┳━━━━━━━━━━━━━━━┳━━━━━━━━━━━━━━━━━━━━┳━━━━━━━━━━┓\u001b[0m\n",
      "\u001b[37m    \u001b[0m\u001b[37m┃\u001b[0m\u001b[34m \u001b[0m\u001b[34mid                     \u001b[0m\u001b[34m \u001b[0m\u001b[37m┃\u001b[0m\u001b[34m \u001b[0m\u001b[34mmodel_type_id\u001b[0m\u001b[34m \u001b[0m\u001b[37m┃\u001b[0m\u001b[34m \u001b[0m\u001b[34mapp_id            \u001b[0m\u001b[34m \u001b[0m\u001b[37m┃\u001b[0m\u001b[34m \u001b[0m\u001b[34muser_id \u001b[0m\u001b[34m \u001b[0m\u001b[37m┃\u001b[0m\n",
      "\u001b[37m    \u001b[0m\u001b[37m┡━━━━━━━━━━━━━━━━━━━━━━━━━╇━━━━━━━━━━━━━━━╇━━━━━━━━━━━━━━━━━━━━╇━━━━━━━━━━┩\u001b[0m\n",
      "\u001b[37m    \u001b[0m\u001b[37m│\u001b[0m\u001b[37m \u001b[0m\u001b[37mrag-prompter-1709878583\u001b[0m\u001b[37m \u001b[0m\u001b[37m│\u001b[0m\u001b[37m \u001b[0m\u001b[37mrag-prompter \u001b[0m\u001b[37m \u001b[0m\u001b[37m│\u001b[0m\u001b[37m \u001b[0m\u001b[37mrag_app_1709878583\u001b[0m\u001b[37m \u001b[0m\u001b[37m│\u001b[0m\u001b[37m \u001b[0m\u001b[37mcharlsib\u001b[0m\u001b[37m \u001b[0m\u001b[37m│\u001b[0m\n",
      "\u001b[37m    \u001b[0m\u001b[37m└─────────────────────────┴───────────────┴────────────────────┴──────────┘\u001b[0m\n",
      "\u001b[37m    \u001b[0m\u001b[37m╚══ \u001b[0m\u001b[3;32m                           Node: llm                            \u001b[0m\n",
      "\u001b[37m    \u001b[0m\u001b[37m    \u001b[0m\u001b[32m┏━━━━━━━━━━━━━━━━━━━━━┳━━━━━━━━━━━━━━━┳━━━━━━━━━━━━┳━━━━━━━━━━━┓\u001b[0m\n",
      "\u001b[37m    \u001b[0m\u001b[37m    \u001b[0m\u001b[32m┃\u001b[0m\u001b[34m \u001b[0m\u001b[34mid                 \u001b[0m\u001b[34m \u001b[0m\u001b[32m┃\u001b[0m\u001b[34m \u001b[0m\u001b[34mmodel_type_id\u001b[0m\u001b[34m \u001b[0m\u001b[32m┃\u001b[0m\u001b[34m \u001b[0m\u001b[34mapp_id    \u001b[0m\u001b[34m \u001b[0m\u001b[32m┃\u001b[0m\u001b[34m \u001b[0m\u001b[34muser_id  \u001b[0m\u001b[34m \u001b[0m\u001b[32m┃\u001b[0m\n",
      "\u001b[37m    \u001b[0m\u001b[37m    \u001b[0m\u001b[32m┡━━━━━━━━━━━━━━━━━━━━━╇━━━━━━━━━━━━━━━╇━━━━━━━━━━━━╇━━━━━━━━━━━┩\u001b[0m\n",
      "\u001b[37m    \u001b[0m\u001b[37m    \u001b[0m\u001b[32m│\u001b[0m\u001b[32m \u001b[0m\u001b[32mmistral-7B-Instruct\u001b[0m\u001b[32m \u001b[0m\u001b[32m│\u001b[0m\u001b[32m \u001b[0m\u001b[32mtext-to-text \u001b[0m\u001b[32m \u001b[0m\u001b[32m│\u001b[0m\u001b[32m \u001b[0m\u001b[32mcompletion\u001b[0m\u001b[32m \u001b[0m\u001b[32m│\u001b[0m\u001b[32m \u001b[0m\u001b[32mmistralai\u001b[0m\u001b[32m \u001b[0m\u001b[32m│\u001b[0m\n",
      "\u001b[37m    \u001b[0m\u001b[37m    \u001b[0m\u001b[32m└─────────────────────┴───────────────┴────────────┴───────────┘\u001b[0m\n",
      "Defaulting to user installation because normal site-packages is not writeable\n",
      "Requirement already satisfied: llama-index-readers-file in /home/charslib/.local/lib/python3.10/site-packages (0.1.8)\n",
      "Requirement already satisfied: pypdf<5.0.0,>=4.0.1 in /home/charslib/.local/lib/python3.10/site-packages (from llama-index-readers-file) (4.1.0)\n",
      "Requirement already satisfied: pymupdf<2.0.0,>=1.23.21 in /home/charslib/.local/lib/python3.10/site-packages (from llama-index-readers-file) (1.23.26)\n",
      "Requirement already satisfied: beautifulsoup4<5.0.0,>=4.12.3 in /home/charslib/.local/lib/python3.10/site-packages (from llama-index-readers-file) (4.12.3)\n",
      "Requirement already satisfied: bs4<0.0.3,>=0.0.2 in /home/charslib/.local/lib/python3.10/site-packages (from llama-index-readers-file) (0.0.2)\n",
      "Requirement already satisfied: llama-index-core<0.11.0,>=0.10.1 in /home/charslib/.local/lib/python3.10/site-packages (from llama-index-readers-file) (0.10.17)\n",
      "Requirement already satisfied: soupsieve>1.2 in /home/charslib/.local/lib/python3.10/site-packages (from beautifulsoup4<5.0.0,>=4.12.3->llama-index-readers-file) (2.5)\n",
      "Requirement already satisfied: networkx>=3.0 in /home/charslib/.local/lib/python3.10/site-packages (from llama-index-core<0.11.0,>=0.10.1->llama-index-readers-file) (3.2.1)\n",
      "Requirement already satisfied: llamaindex-py-client<0.2.0,>=0.1.13 in /home/charslib/.local/lib/python3.10/site-packages (from llama-index-core<0.11.0,>=0.10.1->llama-index-readers-file) (0.1.13)\n",
      "Requirement already satisfied: fsspec>=2023.5.0 in /home/charslib/.local/lib/python3.10/site-packages (from llama-index-core<0.11.0,>=0.10.1->llama-index-readers-file) (2023.10.0)\n",
      "Requirement already satisfied: dataclasses-json in /home/charslib/.local/lib/python3.10/site-packages (from llama-index-core<0.11.0,>=0.10.1->llama-index-readers-file) (0.6.4)\n",
      "Requirement already satisfied: nltk<4.0.0,>=3.8.1 in /home/charslib/.local/lib/python3.10/site-packages (from llama-index-core<0.11.0,>=0.10.1->llama-index-readers-file) (3.8.1)\n",
      "Requirement already satisfied: typing-inspect>=0.8.0 in /home/charslib/.local/lib/python3.10/site-packages (from llama-index-core<0.11.0,>=0.10.1->llama-index-readers-file) (0.9.0)\n",
      "Requirement already satisfied: pillow>=9.0.0 in /home/charslib/.local/lib/python3.10/site-packages (from llama-index-core<0.11.0,>=0.10.1->llama-index-readers-file) (10.2.0)\n",
      "Requirement already satisfied: deprecated>=1.2.9.3 in /home/charslib/.local/lib/python3.10/site-packages (from llama-index-core<0.11.0,>=0.10.1->llama-index-readers-file) (1.2.14)\n",
      "Requirement already satisfied: tiktoken>=0.3.3 in /home/charslib/.local/lib/python3.10/site-packages (from llama-index-core<0.11.0,>=0.10.1->llama-index-readers-file) (0.6.0)\n",
      "Requirement already satisfied: tenacity<9.0.0,>=8.2.0 in /home/charslib/.local/lib/python3.10/site-packages (from llama-index-core<0.11.0,>=0.10.1->llama-index-readers-file) (8.2.3)\n",
      "Requirement already satisfied: numpy in /home/charslib/.local/lib/python3.10/site-packages (from llama-index-core<0.11.0,>=0.10.1->llama-index-readers-file) (1.24.4)\n",
      "Requirement already satisfied: httpx in /home/charslib/.local/lib/python3.10/site-packages (from llama-index-core<0.11.0,>=0.10.1->llama-index-readers-file) (0.25.0)\n",
      "Requirement already satisfied: requests>=2.31.0 in /home/charslib/.local/lib/python3.10/site-packages (from llama-index-core<0.11.0,>=0.10.1->llama-index-readers-file) (2.31.0)\n",
      "Requirement already satisfied: typing-extensions>=4.5.0 in /home/charslib/.local/lib/python3.10/site-packages (from llama-index-core<0.11.0,>=0.10.1->llama-index-readers-file) (4.10.0)\n",
      "Requirement already satisfied: openai>=1.1.0 in /home/charslib/.local/lib/python3.10/site-packages (from llama-index-core<0.11.0,>=0.10.1->llama-index-readers-file) (1.13.3)\n",
      "Requirement already satisfied: pandas in /home/charslib/.local/lib/python3.10/site-packages (from llama-index-core<0.11.0,>=0.10.1->llama-index-readers-file) (2.1.1)\n",
      "Requirement already satisfied: dirtyjson<2.0.0,>=1.0.8 in /home/charslib/.local/lib/python3.10/site-packages (from llama-index-core<0.11.0,>=0.10.1->llama-index-readers-file) (1.0.8)\n",
      "Requirement already satisfied: aiohttp<4.0.0,>=3.8.6 in /home/charslib/.local/lib/python3.10/site-packages (from llama-index-core<0.11.0,>=0.10.1->llama-index-readers-file) (3.8.6)\n",
      "Requirement already satisfied: PyYAML>=6.0.1 in /home/charslib/.local/lib/python3.10/site-packages (from llama-index-core<0.11.0,>=0.10.1->llama-index-readers-file) (6.0.1)\n",
      "Requirement already satisfied: nest-asyncio<2.0.0,>=1.5.8 in /home/charslib/.local/lib/python3.10/site-packages (from llama-index-core<0.11.0,>=0.10.1->llama-index-readers-file) (1.5.8)\n",
      "Requirement already satisfied: SQLAlchemy[asyncio]>=1.4.49 in /home/charslib/.local/lib/python3.10/site-packages (from llama-index-core<0.11.0,>=0.10.1->llama-index-readers-file) (2.0.28)\n",
      "Requirement already satisfied: tqdm<5.0.0,>=4.66.1 in /home/charslib/.local/lib/python3.10/site-packages (from llama-index-core<0.11.0,>=0.10.1->llama-index-readers-file) (4.66.1)\n",
      "Requirement already satisfied: PyMuPDFb==1.23.22 in /home/charslib/.local/lib/python3.10/site-packages (from pymupdf<2.0.0,>=1.23.21->llama-index-readers-file) (1.23.22)\n",
      "Requirement already satisfied: attrs>=17.3.0 in /home/charslib/.local/lib/python3.10/site-packages (from aiohttp<4.0.0,>=3.8.6->llama-index-core<0.11.0,>=0.10.1->llama-index-readers-file) (23.1.0)\n",
      "Requirement already satisfied: multidict<7.0,>=4.5 in /home/charslib/.local/lib/python3.10/site-packages (from aiohttp<4.0.0,>=3.8.6->llama-index-core<0.11.0,>=0.10.1->llama-index-readers-file) (6.0.4)\n",
      "Requirement already satisfied: yarl<2.0,>=1.0 in /home/charslib/.local/lib/python3.10/site-packages (from aiohttp<4.0.0,>=3.8.6->llama-index-core<0.11.0,>=0.10.1->llama-index-readers-file) (1.9.2)\n",
      "Requirement already satisfied: async-timeout<5.0,>=4.0.0a3 in /home/charslib/.local/lib/python3.10/site-packages (from aiohttp<4.0.0,>=3.8.6->llama-index-core<0.11.0,>=0.10.1->llama-index-readers-file) (4.0.3)\n",
      "Requirement already satisfied: aiosignal>=1.1.2 in /home/charslib/.local/lib/python3.10/site-packages (from aiohttp<4.0.0,>=3.8.6->llama-index-core<0.11.0,>=0.10.1->llama-index-readers-file) (1.3.1)\n",
      "Requirement already satisfied: charset-normalizer<4.0,>=2.0 in /home/charslib/.local/lib/python3.10/site-packages (from aiohttp<4.0.0,>=3.8.6->llama-index-core<0.11.0,>=0.10.1->llama-index-readers-file) (3.3.0)\n",
      "Requirement already satisfied: frozenlist>=1.1.1 in /home/charslib/.local/lib/python3.10/site-packages (from aiohttp<4.0.0,>=3.8.6->llama-index-core<0.11.0,>=0.10.1->llama-index-readers-file) (1.4.0)\n",
      "Requirement already satisfied: wrapt<2,>=1.10 in /home/charslib/.local/lib/python3.10/site-packages (from deprecated>=1.2.9.3->llama-index-core<0.11.0,>=0.10.1->llama-index-readers-file) (1.16.0)\n",
      "Requirement already satisfied: pydantic>=1.10 in /home/charslib/.local/lib/python3.10/site-packages (from llamaindex-py-client<0.2.0,>=0.1.13->llama-index-core<0.11.0,>=0.10.1->llama-index-readers-file) (2.4.2)\n",
      "Requirement already satisfied: sniffio in /home/charslib/.local/lib/python3.10/site-packages (from httpx->llama-index-core<0.11.0,>=0.10.1->llama-index-readers-file) (1.3.0)\n",
      "Requirement already satisfied: idna in /usr/lib/python3/dist-packages (from httpx->llama-index-core<0.11.0,>=0.10.1->llama-index-readers-file) (3.3)\n",
      "Requirement already satisfied: certifi in /home/charslib/.local/lib/python3.10/site-packages (from httpx->llama-index-core<0.11.0,>=0.10.1->llama-index-readers-file) (2023.7.22)\n",
      "Requirement already satisfied: httpcore<0.19.0,>=0.18.0 in /home/charslib/.local/lib/python3.10/site-packages (from httpx->llama-index-core<0.11.0,>=0.10.1->llama-index-readers-file) (0.18.0)\n",
      "Requirement already satisfied: regex>=2021.8.3 in /home/charslib/.local/lib/python3.10/site-packages (from nltk<4.0.0,>=3.8.1->llama-index-core<0.11.0,>=0.10.1->llama-index-readers-file) (2023.12.25)\n",
      "Requirement already satisfied: joblib in /home/charslib/.local/lib/python3.10/site-packages (from nltk<4.0.0,>=3.8.1->llama-index-core<0.11.0,>=0.10.1->llama-index-readers-file) (1.3.2)\n",
      "Requirement already satisfied: click in /usr/lib/python3/dist-packages (from nltk<4.0.0,>=3.8.1->llama-index-core<0.11.0,>=0.10.1->llama-index-readers-file) (8.0.3)\n",
      "Requirement already satisfied: distro<2,>=1.7.0 in /usr/lib/python3/dist-packages (from openai>=1.1.0->llama-index-core<0.11.0,>=0.10.1->llama-index-readers-file) (1.7.0)\n",
      "Requirement already satisfied: anyio<5,>=3.5.0 in /home/charslib/.local/lib/python3.10/site-packages (from openai>=1.1.0->llama-index-core<0.11.0,>=0.10.1->llama-index-readers-file) (4.0.0)\n",
      "Requirement already satisfied: urllib3<3,>=1.21.1 in /home/charslib/.local/lib/python3.10/site-packages (from requests>=2.31.0->llama-index-core<0.11.0,>=0.10.1->llama-index-readers-file) (2.2.1)\n",
      "Requirement already satisfied: greenlet!=0.4.17 in /usr/lib/python3/dist-packages (from SQLAlchemy[asyncio]>=1.4.49->llama-index-core<0.11.0,>=0.10.1->llama-index-readers-file) (1.1.2)\n",
      "Requirement already satisfied: mypy-extensions>=0.3.0 in /home/charslib/.local/lib/python3.10/site-packages (from typing-inspect>=0.8.0->llama-index-core<0.11.0,>=0.10.1->llama-index-readers-file) (1.0.0)\n",
      "Requirement already satisfied: marshmallow<4.0.0,>=3.18.0 in /home/charslib/.local/lib/python3.10/site-packages (from dataclasses-json->llama-index-core<0.11.0,>=0.10.1->llama-index-readers-file) (3.21.1)\n",
      "Requirement already satisfied: python-dateutil>=2.8.2 in /home/charslib/.local/lib/python3.10/site-packages (from pandas->llama-index-core<0.11.0,>=0.10.1->llama-index-readers-file) (2.8.2)\n",
      "Requirement already satisfied: pytz>=2020.1 in /usr/lib/python3/dist-packages (from pandas->llama-index-core<0.11.0,>=0.10.1->llama-index-readers-file) (2022.1)\n",
      "Requirement already satisfied: tzdata>=2022.1 in /home/charslib/.local/lib/python3.10/site-packages (from pandas->llama-index-core<0.11.0,>=0.10.1->llama-index-readers-file) (2023.3)\n",
      "Requirement already satisfied: exceptiongroup>=1.0.2 in /home/charslib/.local/lib/python3.10/site-packages (from anyio<5,>=3.5.0->openai>=1.1.0->llama-index-core<0.11.0,>=0.10.1->llama-index-readers-file) (1.1.3)\n",
      "Requirement already satisfied: h11<0.15,>=0.13 in /home/charslib/.local/lib/python3.10/site-packages (from httpcore<0.19.0,>=0.18.0->httpx->llama-index-core<0.11.0,>=0.10.1->llama-index-readers-file) (0.14.0)\n",
      "Requirement already satisfied: packaging>=17.0 in /home/charslib/.local/lib/python3.10/site-packages (from marshmallow<4.0.0,>=3.18.0->dataclasses-json->llama-index-core<0.11.0,>=0.10.1->llama-index-readers-file) (23.2)\n",
      "Requirement already satisfied: pydantic-core==2.10.1 in /home/charslib/.local/lib/python3.10/site-packages (from pydantic>=1.10->llamaindex-py-client<0.2.0,>=0.1.13->llama-index-core<0.11.0,>=0.10.1->llama-index-readers-file) (2.10.1)\n",
      "Requirement already satisfied: annotated-types>=0.4.0 in /home/charslib/.local/lib/python3.10/site-packages (from pydantic>=1.10->llamaindex-py-client<0.2.0,>=0.1.13->llama-index-core<0.11.0,>=0.10.1->llama-index-readers-file) (0.6.0)\n",
      "Requirement already satisfied: six>=1.5 in /usr/lib/python3/dist-packages (from python-dateutil>=2.8.2->pandas->llama-index-core<0.11.0,>=0.10.1->llama-index-readers-file) (1.16.0)\n",
      "\u001b[2;36m2024-03-08 13:17:37\u001b[0m\u001b[2;36m \u001b[0m\u001b[34mINFO    \u001b[0m clarifai.client.input:                 \u001b]8;id=201943;file:///home/charslib/.local/lib/python3.10/site-packages/clarifai/client/input.py\u001b\\\u001b[2minput.py\u001b[0m\u001b]8;;\u001b\\\u001b[2m:\u001b[0m\u001b]8;id=746603;file:///home/charslib/.local/lib/python3.10/site-packages/clarifai/client/input.py#673\u001b\\\u001b[2m673\u001b[0m\u001b]8;;\u001b\\\n",
      "\u001b[2;36m                    \u001b[0m         Inputs Uploaded                        \u001b[2m            \u001b[0m\n",
      "\u001b[2;36m                    \u001b[0m         code: SUCCESS                          \u001b[2m            \u001b[0m\n",
      "\u001b[2;36m                    \u001b[0m         description: \u001b[32m\"Ok\"\u001b[0m                      \u001b[2m            \u001b[0m\n",
      "\u001b[2;36m                    \u001b[0m         details: \u001b[32m\"All inputs successfully \u001b[0m     \u001b[2m            \u001b[0m\n",
      "\u001b[2;36m                    \u001b[0m         \u001b[32madded\"\u001b[0m                                 \u001b[2m            \u001b[0m\n",
      "\u001b[2;36m                    \u001b[0m         req_id:                                \u001b[2m            \u001b[0m\n",
      "\u001b[2;36m                    \u001b[0m         \u001b[32m\"1350ab7f6e531e28cc9beb5f2c0d8e7a\"\u001b[0m     \u001b[2m            \u001b[0m\n",
      "\u001b[2;36m                    \u001b[0m                                                \u001b[2m            \u001b[0m\n"
     ]
    },
    {
     "data": {
      "text/plain": [
       "[{'role': 'assistant',\n",
       "  'content': \"\\nThis press release from the European Parliament announces a meeting of MEPs to discuss the state of Russia's democratic opposition following the death of Alexei Navalny. The meeting will take place on Thursday, 22 February 2024, at 10.30 CET in Room 4Q2 of the European Parliament's ANTALL building in Brussels. The guests giving testimonies to MEPs include Leonid Volkov, Chief of staff of Alexei Navalny and Anti-Corruption Foundation; Evgenia Kara-Murza, Advocacy Director at the Free Russia Foundation and wife of political prisoner Vladimir Kara-Murza; and Vladimir Milov, Vice-President of the Free Russia Foundation and former Vice-Minister of Energy of Russia. The MEPs will discuss the state of Russia's democratic opposition ahead of the country's presidential elections scheduled for 15-17 March 2024, as well as the latest developments regarding Navalny's inhuman prison conditions and his subsequent death, and the situation of all those Russian opposition voices currently behind bars. The meeting can be watched live and the video recording will be available right after. The press release also includes links to previous press statements and press releases related to Alexei Navalny and the EU-Russia relationship.\"}]"
      ]
     },
     "execution_count": 7,
     "metadata": {},
     "output_type": "execute_result"
    }
   ],
   "source": [
    "from clarifai.rag import RAG\n",
    "\n",
    "rag_agent = RAG.setup(user_id=\"charlsib\")\n",
    "\n",
    "rag_agent.upload(file_path=\"data/Navalniy.pdf\")\n",
    "\n",
    "rag_agent.chat(messages=[{\"role\":\"human\", \"content\": \"Summarize this pdf\"}])"
   ]
  },
  {
   "cell_type": "code",
   "execution_count": 8,
   "metadata": {},
   "outputs": [
    {
     "data": {
      "text/plain": [
       "[{'role': 'assistant',\n",
       "  'content': \" Alexei Navalny, a prominent Russian anti-corruption activist, opposition politician, and critic of President Vladimir Putin, died under mysterious circumstances in a penal colony on Friday, 16 February 2024. MEPs will discuss the state of Russia's democratic opposition and examine the latest developments regarding Navalny's death and the situation of other opposition voices currently behind bars at a joint meeting on Thursday, 22 February 2024. The meeting will feature testimonies from Leonid Volkov, Chief of Staff of Alexei Navalny, Anti-Corruption Foundation; Evgenia Kara-Murza, Advocacy Director at the Free Russia Foundation, wife of political prisoner Vladimir Kara-Murza; and Vladimir Milov, Vice-President of the Free Russia Foundation and former Vice-Minister of Energy of Russia.\\n\\nNote: The given context does not provide information about the cause of Navalny's death or the conditions leading to it.\"}]"
      ]
     },
     "execution_count": 8,
     "metadata": {},
     "output_type": "execute_result"
    }
   ],
   "source": [
    "rag_agent.chat(messages=[{\"role\":\"human\", \"content\": \"What is the state of Alexei Navalny based on given context\"}])"
   ]
  }
 ],
 "metadata": {
  "kernelspec": {
   "display_name": "Python 3",
   "language": "python",
   "name": "python3"
  },
  "language_info": {
   "codemirror_mode": {
    "name": "ipython",
    "version": 3
   },
   "file_extension": ".py",
   "mimetype": "text/x-python",
   "name": "python",
   "nbconvert_exporter": "python",
   "pygments_lexer": "ipython3",
   "version": "3.10.12"
  }
 },
 "nbformat": 4,
 "nbformat_minor": 2
}
